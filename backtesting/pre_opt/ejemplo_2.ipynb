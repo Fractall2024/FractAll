{
 "cells": [
  {
   "cell_type": "code",
   "execution_count": null,
   "id": "09d030d3-6fc8-42d1-ab42-29d03f7e6ce3",
   "metadata": {},
   "outputs": [],
   "source": [
    "# nuevo ejemplo"
   ]
  }
 ],
 "metadata": {
  "kernelspec": {
   "display_name": "Python (*FractAll*)",
   "language": "python",
   "name": "fractall"
  },
  "language_info": {
   "codemirror_mode": {
    "name": "ipython",
    "version": 3
   },
   "file_extension": ".py",
   "mimetype": "text/x-python",
   "name": "python",
   "nbconvert_exporter": "python",
   "pygments_lexer": "ipython3",
   "version": "3.13.0"
  }
 },
 "nbformat": 4,
 "nbformat_minor": 5
}
